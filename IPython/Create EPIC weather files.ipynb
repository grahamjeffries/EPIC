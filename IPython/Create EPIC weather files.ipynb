{
 "cells": [
  {
   "cell_type": "markdown",
   "metadata": {},
   "source": [
    "# Create EPIC weather files from NARR data"
   ]
  },
  {
   "cell_type": "code",
   "execution_count": null,
   "metadata": {},
   "outputs": [],
   "source": [
    "Follow these steps to create daily and monthly weather files from NARR datset for EPIC:\n",
    "    \n",
    "1. Update config_NARR.txt to establish starting and ending year, paths to directories.\n",
    "\n",
    "2. Run create_EPIC_weather_files.py \n",
    "    \n",
    "################################## config_NARR.txt ##################################\n",
    "[PROJECT]\n",
    "project_name = OpenLands_LS                                          ; Name of project directory (to be created within out_dir)\n",
    "TAG          = NARR                                                  ; A log file is created as Log_<TAG>.txt\n",
    "\n",
    "[PATHS]\n",
    "meta_dir   = C:\\Users\\ritvik\\Documents\\PhD\\Projects\\Lake_States\\Meta                      ; Contains WXPM3020.exe \n",
    "data_dir   = C:\\Users\\ritvik\\Documents\\PhD\\Projects\\Lake_States\\Data\\NETCDF\\narr_download ; Directory for NETCDF NARR files\n",
    "out_dir    = C:\\Users\\ritvik\\Documents\\PhD\\Projects\\Lake_States\\EPIC                      ; Output directory\n",
    "\n",
    "[PARAMETERS]\n",
    "START_YR    = 1979           ; Starting year of weather data\n",
    "END_YR      = 2014           ; Ending year of weather data\n",
    "LAT_BOUNDS  = [41.5,49.5]    ; Lat boundary of study region  \n",
    "LON_BOUNDS  = [-98.0,-81.0]  ; Lon boundary of study region\n",
    "EPIC_DLY    = iewedlst.dat   ; Tag of NARR folder\n",
    "EPIC_MON    = iewealst.dat   ; Name of EPIC daily weather station list file\n",
    "WXPMRUN     = WXPMRUN.DAT    ; Name of EPIC monthly weather station list file\n",
    "WXPM_EXE    = WXPM3020.exe\n",
    "DO_PARALLEL = True           ; Use multiprocessing or not?                    \n",
    "DO_SITE     = False          ; Run for single site (True) or not (False)\n",
    "SITE_LAT    = 42.0           ; If DO_SITE is True, then lat\n",
    "SITE_LON    = 86.0           ; If DO_SITE is True, then lon\n",
    "######################################################################################\n",
    "\n",
    "+---------------+------------------------------------------------+---------+-------------------------------------+\n",
    "| EPIC Variable |                  Description                   |  Units  |  Notes to convert into EPIC format  |\n",
    "+---------------+------------------------------------------------+---------+-------------------------------------+\n",
    "|     DSWRF     | Daily downward shortwave radiation at surface  |  W m^-2 |          Convert to Mj m^-2         |\n",
    "|     USWRF     |  Daily upward shortwave radiation at surface   |  W m^-2 |          Convert to Mj m^-2         |\n",
    "|      TMAX     | Max daily temp at 2m height above ground level |    K    | Subtract 273.15 to convert to deg C |\n",
    "|      TMIN     | Min daily temp at 2m height above ground level |    K    | Subtract 273.15 to convert to deg C |\n",
    "|     PRATE     |        Daily precipitation accumulation        | kg m^-2 |                                     |\n",
    "|       RH      |         Relative humidity at 2m height         |    %    |            Divide by 100            |\n",
    "|      UGRD     |      Windspeed at 10m height (west->east)      |  m s^-1 |   Wind speed = sqrt(UGRD^2+VGRD^2)  |\n",
    "|      VGRD     |     Windspeed at 10m height south->north)      |  m s^-1 |   Wind speed = sqrt(UGRD^2+VGRD^2)  |\n",
    "+---------------+------------------------------------------------+---------+-------------------------------------+"
   ]
  }
 ],
 "metadata": {
  "kernelspec": {
   "display_name": "Python 2",
   "language": "python",
   "name": "python2"
  },
  "language_info": {
   "codemirror_mode": {
    "name": "ipython",
    "version": 2.0
   },
   "file_extension": ".py",
   "mimetype": "text/x-python",
   "name": "python",
   "nbconvert_exporter": "python",
   "pygments_lexer": "ipython2",
   "version": "2.7.8"
  }
 },
 "nbformat": 4,
 "nbformat_minor": 0
}