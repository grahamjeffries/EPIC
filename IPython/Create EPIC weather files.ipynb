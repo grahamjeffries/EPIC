{
 "cells": [
  {
   "cell_type": "markdown",
   "metadata": {},
   "source": [
    "# Create EPIC weather files from NARR data"
   ]
  },
  {
   "cell_type": "raw",
   "metadata": {},
   "source": [
    "+---------------+------------------------------------------------+---------+-------------------------------------+\n",
    "| EPIC Variable |                  Description                   |  Units  |  Notes to convert into EPIC format  |\n",
    "+---------------+------------------------------------------------+---------+-------------------------------------+\n",
    "|     DSWRF     | Daily downward shortwave radiation at surface  |  W m^-2 |          Convert to Mj m^-2         |\n",
    "|     USWRF     |  Daily upward shortwave radiation at surface   |  W m^-2 |          Convert to Mj m^-2         |\n",
    "|      TMAX     | Max daily temp at 2m height above ground level |    K    | Subtract 273.15 to convert to deg C |\n",
    "|      TMIN     | Min daily temp at 2m height above ground level |    K    | Subtract 273.15 to convert to deg C |\n",
    "|     PRATE     |        Daily precipitation accumulation        | kg m^-2 |                                     |\n",
    "|       RH      |         Relative humidity at 2m height         |    %    |            Divide by 100            |\n",
    "|      UGRD     |      Windspeed at 10m height (west->east)      |  m s^-1 |   Wind speed = sqrt(UGRD^2+VGRD^2)  |\n",
    "|      VGRD     |     Windspeed at 10m height south->north)      |  m s^-1 |   Wind speed = sqrt(UGRD^2+VGRD^2)  |\n",
    "+---------------+------------------------------------------------+---------+-------------------------------------+"
   ]
  },
  {
   "cell_type": "code",
   "execution_count": null,
   "metadata": {
    "collapsed": true
   },
   "outputs": [],
   "source": []
  }
 ],
 "metadata": {
  "kernelspec": {
   "display_name": "Python 2",
   "language": "python",
   "name": "python2"
  },
  "language_info": {
   "codemirror_mode": {
    "name": "ipython",
    "version": 2
   },
   "file_extension": ".py",
   "mimetype": "text/x-python",
   "name": "python",
   "nbconvert_exporter": "python",
   "pygments_lexer": "ipython2",
   "version": "2.7.8"
  }
 },
 "nbformat": 4,
 "nbformat_minor": 0
}
