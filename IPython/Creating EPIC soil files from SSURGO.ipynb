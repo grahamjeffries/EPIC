{
 "cells": [
  {
   "cell_type": "markdown",
   "metadata": {},
   "source": [
    "# Create EPIC Soil Files"
   ]
  },
  {
   "cell_type": "code",
   "execution_count": null,
   "metadata": {},
   "outputs": [],
   "source": [
    "Follow these steps to create soil files from SSURGO datset for EPIC:\n",
    "\n",
    "1. Modify config_SSURGO.txt\n",
    "\n",
    "2. Execute create_EPIC_soil_files.py to create EPIC soil files, ieSlList.dat and merge all county SSURGO rasters to a \n",
    "   state-wide raster.\n",
    "\n",
    "3. Execute SSURGO_to_csv.py to just create EPIC soil files only.\n",
    "\n",
    "################################## config_SSURGO.txt #################################\n",
    "[PROJECT]\n",
    "project_name = OpenLands_LS                                       ; Name of project directory (to be created within out_dir)\n",
    "TAG          = SSURGO                                             ; A log file is created as Log_<TAG>.txt\n",
    "LIST_STATES  = ['wi','mn','mi']                                   ; List of states to process              \n",
    "\n",
    "[PATHS]\n",
    "base_dir   = C:\\Users\\ritvik\\Documents\\PhD\\Projects\\Lake_States\\                          ;\n",
    "data_dir   = C:\\Users\\ritvik\\Documents\\PhD\\Projects\\Lake_States\\Data\\GIS\\SSURGO           ; Contains SSURGO input data\n",
    "out_dir    = C:\\Users\\ritvik\\Documents\\PhD\\Projects\\Lake_States\\EPIC                      ;\n",
    "\n",
    "[PARAMETERS]\n",
    "ZERO_LINES  = 23                                                                          ; Number of lines with zero's\n",
    "SLLIST      = ieSlList.dat                                                                ; \n",
    "SIZE        = 56                                                                          ; Resolution of soil raster\n",
    "######################################################################################"
   ]
  },
  {
   "cell_type": "code",
   "execution_count": 1,
   "metadata": {},
   "outputs": [],
   "source": [
    "from prettytable import PrettyTable\n",
    "from prettytable import from_csv\n",
    "\n",
    "fp = open('..\\\\Meta\\\\SSURGO_Soil_Params.csv','r')\n",
    "pt = from_csv(fp)\n",
    "print pt"
   ]
  },
  {
   "cell_type": "code",
   "execution_count": null,
   "metadata": {},
   "outputs": [],
   "source": [
    ""
   ]
  }
 ],
 "metadata": {
  "kernelspec": {
   "display_name": "Python 2",
   "language": "python",
   "name": "python2"
  },
  "language_info": {
   "codemirror_mode": {
    "name": "ipython",
    "version": 2.0
   },
   "file_extension": ".py",
   "mimetype": "text/x-python",
   "name": "python",
   "nbconvert_exporter": "python",
   "pygments_lexer": "ipython2",
   "version": "2.7.8"
  }
 },
 "nbformat": 4,
 "nbformat_minor": 0
}