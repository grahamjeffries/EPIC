{
 "cells": [
  {
   "cell_type": "markdown",
   "metadata": {},
   "source": [
    "# Create EPIC Soil Files"
   ]
  },
  {
   "cell_type": "code",
   "execution_count": null,
   "metadata": {
    "collapsed": true
   },
   "outputs": [],
   "source": [
    "We will create EPIC soil files from the SSURGO dataset. The table below shows the EPIC variables and units alongside corresponding SSURGO variables and converting between them.\n",
    "\n",
    "+-------------+------------------------------------------------+-----------+-----------------+-------------+----------------+\n",
    "|EPIC Variable|                  Description                   | EPIC Unit | SSURGO Variable | SSURGO Unit | Unit convertor |\n",
    "+-------------+------------------------------------------------+-----------+-----------------+-------------+----------------+\n",
    "|     SALB    |                  Soil albedo                   |           |   albedodry_r   |             |                |\n",
    "|     HSG     |  Soil hydrologic group (1=A, 2=B, 3=C, 4=D).   |           |      hydgrp     |             |                |\n",
    "|      Z      |            Depth to bottom of layer            |     m     |     hzdepb_r    |      cm     |      0.01      |\n",
    "|      BD     |                  Bulk Density                  |   T/m^3   |   dbthirdbar_r  |    gm/cm3   |       1        |\n",
    "|      U      | Soil water content at wilting point (1500 KPA) |    m/m    |  wfifteenbar_r  |    cm/cm    |       1        |\n",
    "|      FC     |    Water content at field capacity (33 KPA)    |    m/m    |   wthirdbar_r   |    cm/cm    |       1        |\n",
    "|     SAN     |                  Sand content                  |     %     |   sandtotal_r   |      %      |       1        |\n",
    "|     SIL     |                  Silt content                  |     %     |   silttotal_r   |      %      |       1        |\n",
    "|      PH     |                    Soil pH                     |           |   ph1to1h2o_r   |             |                |\n",
    "|     SMB     |                  Sum of bases                  |  cmol/kg  |    sumbases_r   |   cmol/kg   |       1        |\n",
    "|     WOC     |          Organic carbon concentration          |     %     |       om_r      |      %      |       1        |\n",
    "|     CAC     |       Calcium carbonate content of soil        |     %     |     caco3_r     |      %      |       1        |\n",
    "|     CEC     |            Cation exchange capacity            |  cmol/kg  |      cec7_r     |   cmol/kg   |       1        |\n",
    "|     ROK     |            Coarse fragment content             |  % by vol |    Fragvol_r    |   % by vol  |       1        |\n",
    "|     BDD     |            Bulk density (oven dry)             |   T/m^3   |   dbovendry_r   |    T/m^3    |       1        |\n",
    "|     SATC    |             Saturated conductivity             |    mm/h   |      ksat_r     |    mm/sec   |      3600      |\n",
    "+-------------+------------------------------------------------+-----------+-----------------+-------------+----------------+\n",
    "\n",
    "Follow these steps to create soil files from SSURGO datset for EPIC:\n",
    "\n",
    "1. Modify config_SSURGO.txt\n",
    "\n",
    "[PROJECT]\n",
    "project_name = OpenLands_LS                                       ; Name of project directory (to be created within out_dir)\n",
    "TAG          = SSURGO                                             ; A log file is created as Log_<TAG>.txt\n",
    "LIST_STATES  = StateNames_LakeStates.csv                          ; List of states to process               \n",
    "\n",
    "[PATHS]\n",
    "base_dir   = C:\\Users\\ritvik\\Documents\\PhD\\Projects\\Lake_States\\                          ;\n",
    "cdl_dir    = C:\\Users\\ritvik\\Documents\\PhD\\Projects\\Lake_States\\Data\\GIS\\CDL              ; Contains CDL file for CDL_STATE\n",
    "data_dir   = C:\\Users\\ritvik\\Documents\\PhD\\Projects\\Lake_States\\Data\\GIS\\SSURGO           ; Contains SSURGO input data\n",
    "out_dir    = C:\\Users\\ritvik\\Documents\\PhD\\Projects\\Lake_States\\EPIC                      ;\n",
    "\n",
    "[PARAMETERS]\n",
    "ZERO_LINES  = 23                                                                          ; Number of lines with zero's\n",
    "SLLIST      = ieSlList.dat                                                                ; \n",
    "CDL_STATE   = DE                                                                          ; \n",
    "SIZE        = 56                                                                          ; Resolution of soil raster\n",
    "\n",
    "2. Execute create_EPIC_soil_files.py"
   ]
  }
 ],
 "metadata": {
  "kernelspec": {
   "display_name": "Python 2",
   "language": "python",
   "name": "python2"
  },
  "language_info": {
   "codemirror_mode": {
    "name": "ipython",
    "version": 2
   },
   "file_extension": ".py",
   "mimetype": "text/x-python",
   "name": "python",
   "nbconvert_exporter": "python",
   "pygments_lexer": "ipython2",
   "version": "2.7.8"
  }
 },
 "nbformat": 4,
 "nbformat_minor": 0
}
